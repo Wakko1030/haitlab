{
  "nbformat": 4,
  "nbformat_minor": 0,
  "metadata": {
    "colab": {
      "name": "Untitled1.ipynb",
      "provenance": [],
      "authorship_tag": "ABX9TyOLiEDl2OrDGjPsJoDnxypF",
      "include_colab_link": true
    },
    "kernelspec": {
      "name": "python3",
      "display_name": "Python 3"
    }
  },
  "cells": [
    {
      "cell_type": "markdown",
      "metadata": {
        "id": "view-in-github",
        "colab_type": "text"
      },
      "source": [
        "<a href=\"https://colab.research.google.com/github/Wakko1030/haitlab/blob/master/Untitled1.ipynb\" target=\"_parent\"><img src=\"https://colab.research.google.com/assets/colab-badge.svg\" alt=\"Open In Colab\"/></a>"
      ]
    },
    {
      "cell_type": "code",
      "metadata": {
        "id": "E_RuE7orqDUJ",
        "colab_type": "code",
        "colab": {}
      },
      "source": [
        "import requests\n",
        "\n",
        "from bs4 import BeautifulSoup"
      ],
      "execution_count": 0,
      "outputs": []
    },
    {
      "cell_type": "code",
      "metadata": {
        "id": "JDMt4J1fqOKe",
        "colab_type": "code",
        "colab": {}
      },
      "source": [
        "page_url = \"https://search.yahoo.co.jp/image/search?p=%E4%B8%B8%E4%BA%80%E8%A3%BD%E9%BA%BA%E9%87%8E%E8%8F%9C%E3%81%8B%E3%81%8D%E6%8F%9A%E3%81%92&oq=&ei=UTF-8&b=101\"\n",
        "\n",
        "r = requests.get(page_url)\n",
        "\n",
        "soup = BeautifulSoup(r.text, features=\"html.parser\")"
      ],
      "execution_count": 0,
      "outputs": []
    },
    {
      "cell_type": "code",
      "metadata": {
        "id": "EmXoJ_QxqXD3",
        "colab_type": "code",
        "colab": {
          "base_uri": "https://localhost:8080/",
          "height": 389
        },
        "outputId": "cffd1ffd-c810-47bc-94e7-b7c59708e33d"
      },
      "source": [
        "soup.find_all(\"img\", attrs={\"alt\":\"「丸亀製麺野菜か...」の画像検索結果\"})"
      ],
      "execution_count": 31,
      "outputs": [
        {
          "output_type": "execute_result",
          "data": {
            "text/plain": [
              "[<img alt=\"「丸亀製麺野菜か...」の画像検索結果\" rel=\"https://cdn.jalan.jp/jalan/img/6/kuchikomi/4926/KL/4ee56_0004926048_2.jpeg|https://msp.c.yimg.jp/yjimage?q=RIXWgFUXyLFMyjR86pIhQmHs6L7bnz.nu7Df5.G_IEOSCNWy3K0P8dWdU6B9gZKcBoqa0vttmb6wguGiGlT3t9M7_RKkSNDU4QMhiokdjgDJvh4HUuP7R9vOmJ2g7Ms6.IRKQCzTcak.K3a6JjNt&amp;sig=13ajb9nsc&amp;x=259&amp;y=194|640x480|60.6kB|丸亀製麺 守口大日店】大阪東部...|https://www.jalan.net/gourmet/grm_foomoojH000343809/|81|\" src=\"https://msp.c.yimg.jp/yjimage?q=RIXWgFUXyLFMyjR86pIhQmHs6L7bnz.nu7Df5.G_IEOSCNWy3K0P8dWdU6B9gZKcBoqa0vttmb6wguGiGlT3t9M7_RKkSNDU4QMhiokdjgDJvh4HUuP7R9vOmJ2g7Ms6.IRKQCzTcak.K3a6JjNt&amp;sig=13ajb9nsc&amp;x=259&amp;y=194\"/>,\n",
              " <img alt=\"「丸亀製麺野菜か...」の画像検索結果\" rel=\"http://lv99.jp/wp-content/uploads/2016/05/1605_marugame01-680x510.jpg|https://msp.c.yimg.jp/yjimage?q=BO_SBOwXyLGD3G6bKmgNlCgIj0d3KwOth8UQVyIz5kVMEVzXKkFdE_e5cWMJhhErRSw0jtgpUltJW2BtaqI9tGOzNfGdyeLuGYjmZ0RbsnfSAkNvVYIAeaMv9ioIhiAfuWdwcLC0nFf8Iumn3bOAsoE-&amp;sig=13coo3m8u&amp;x=259&amp;y=194|680x510|69.4kB|丸亀製麺｢ざるうどん・野菜かき...|https://lv99.jp/2016/0529/post-5415/|82|\" src=\"https://msp.c.yimg.jp/yjimage?q=BO_SBOwXyLGD3G6bKmgNlCgIj0d3KwOth8UQVyIz5kVMEVzXKkFdE_e5cWMJhhErRSw0jtgpUltJW2BtaqI9tGOzNfGdyeLuGYjmZ0RbsnfSAkNvVYIAeaMv9ioIhiAfuWdwcLC0nFf8Iumn3bOAsoE-&amp;sig=13coo3m8u&amp;x=259&amp;y=194\"/>,\n",
              " <img alt=\"「丸亀製麺野菜か...」の画像検索結果\" rel=\"https://image.space.rakuten.co.jp/d/strg/ctrl/9/66857720f860a704e576bc201ba1957345ac0ef0.88.2.9.2.jpeg|https://msp.c.yimg.jp/yjimage?q=BJ1_fQ8XyLEQC9S_nv3_6nfvAjwywrFl1yEY._G6rIdvkpy0ZzffCC9yYv03pEJl.3W8McrDjdI7gyNbl9IUqkBz1qIpvJhBsB51MpFeHGIChwFKMqRHHs5cmNbNh8AbhWVz8rf09YF.hgq3FUxEKbA-&amp;sig=13cu24adk&amp;x=300&amp;y=168|3840x2160|785.5kB|新国道の丸亀製麺で冷たいぶっか...|https://plaza.rakuten.co.jp/kuma3/diary/201706030002/|83|\" src=\"https://msp.c.yimg.jp/yjimage?q=BJ1_fQ8XyLEQC9S_nv3_6nfvAjwywrFl1yEY._G6rIdvkpy0ZzffCC9yYv03pEJl.3W8McrDjdI7gyNbl9IUqkBz1qIpvJhBsB51MpFeHGIChwFKMqRHHs5cmNbNh8AbhWVz8rf09YF.hgq3FUxEKbA-&amp;sig=13cu24adk&amp;x=300&amp;y=168\"/>,\n",
              " <img alt=\"「丸亀製麺野菜か...」の画像検索結果\" rel=\"https://iwiz-rts.c.yimg.jp/im_siggnALkymjoA_TsdoFNameFLA---x300-y300-ifmgif-prix/p/rts/IX6uDCNxwzATEf9XzxGbSnBMUvwlbjzRkjVe6.S5p.PRONp5AHluydadZITkfcjEjzQ5Thg-|https://msp.c.yimg.jp/yjimage?q=xKGIKIUXyLGLL9QzelOTYwniOF77pcjnHtFIA.E6Y_B42msSK3gFBA_uBbj5gJWKOKI3SuopP3Qs2Il3C6gcHnDzEAwGZaYbxq8YGd8C28FRUfUN.KCoXtdIPXEg_Tnmbq2QF67DOwSvchcxyix_2l4-&amp;sig=13c2h8ttt&amp;x=225&amp;y=225|300x300|24.3kB|丸亀製麺さいたま中央店」のYaho...|https://search.yahoo.co.jp/realtime/search/%E4%B8%B8%E4%BA%80%E8%A3%BD%E9%BA%BA%E3%81%95%E3%81%84%E3%81%9F%E3%81%BE%E4%B8%AD%E5%A4%AE%E5%BA%97/?p=%E4%B8%B8%E4%BA%80%E8%A3%BD%E9%BA%BA%E3%81%95%E3%81%84%E3%81%9F%E3%81%BE%E4%B8%AD%E5%A4%AE%E5%BA%97&amp;amp;rkf=1&amp;amp;ei=UTF-8&amp;amp;utype=img|84|\" src=\"https://msp.c.yimg.jp/yjimage?q=xKGIKIUXyLGLL9QzelOTYwniOF77pcjnHtFIA.E6Y_B42msSK3gFBA_uBbj5gJWKOKI3SuopP3Qs2Il3C6gcHnDzEAwGZaYbxq8YGd8C28FRUfUN.KCoXtdIPXEg_Tnmbq2QF67DOwSvchcxyix_2l4-&amp;sig=13c2h8ttt&amp;x=225&amp;y=225\"/>,\n",
              " <img alt=\"「丸亀製麺野菜か...」の画像検索結果\" rel=\"https://image2.30min.jp/resize/600x600q80/30min/tweet/1784/561784.jpg|https://msp.c.yimg.jp/yjimage?q=aodajv8XyLE6Bdxm7keRrO9lEiOZ6vATQ_3Fp_67843.sjdg0SyzIa_6P13SPmnDtoauIr5bEGlJvbBwIlOrOKQQoE3QgNZ5p3_GnCAAXG.Wb2nkWR6Ih0So8HJ3tdSHL3WphxOkYeTL.PFwd.Y-&amp;sig=1392u9mic&amp;x=194&amp;y=259|450x600|61.5kB|投稿：丸亀製麺 熊本高平店 #う...|https://30min.jp/user/item/561784|85|\" src=\"https://msp.c.yimg.jp/yjimage?q=aodajv8XyLE6Bdxm7keRrO9lEiOZ6vATQ_3Fp_67843.sjdg0SyzIa_6P13SPmnDtoauIr5bEGlJvbBwIlOrOKQQoE3QgNZ5p3_GnCAAXG.Wb2nkWR6Ih0So8HJ3tdSHL3WphxOkYeTL.PFwd.Y-&amp;sig=1392u9mic&amp;x=194&amp;y=259\"/>,\n",
              " <img alt=\"「丸亀製麺野菜か...」の画像検索結果\" rel=\"https://blog-imgs-111.fc2.com/d/a/i/daiankokuten1/IMG_0296.jpg|https://msp.c.yimg.jp/yjimage?q=fIs4whMXyLH.pjK4MGPoDxhWepssDZatPN3JSueeXvfMX5AyGHILRb66VH3HbcnNZ6xbGZyeQ_uWekZBhkIOUiHigv6iVa_kEsG7XQlLdBCf09Z0cgjOqP4uo8odmOLbQ7jJ00jNscop1Da6.l9dJhU-&amp;sig=13cm5s4t9&amp;x=259&amp;y=194|4032x3024|1.3MB|丸亀製麺 作業行程が変わったの...|http://daiankokuten1.blog.fc2.com/blog-entry-2378.html|86|\" src=\"https://msp.c.yimg.jp/yjimage?q=fIs4whMXyLH.pjK4MGPoDxhWepssDZatPN3JSueeXvfMX5AyGHILRb66VH3HbcnNZ6xbGZyeQ_uWekZBhkIOUiHigv6iVa_kEsG7XQlLdBCf09Z0cgjOqP4uo8odmOLbQ7jJ00jNscop1Da6.l9dJhU-&amp;sig=13cm5s4t9&amp;x=259&amp;y=194\"/>,\n",
              " <img alt=\"「丸亀製麺野菜か...」の画像検索結果\" rel=\"https://d2l930y2yx77uc.cloudfront.net/production/uploads/images/11294201/picture_pc_dc1dc967ef971ffab57a314f41394bec.jpg|https://msp.c.yimg.jp/yjimage?q=7isQUwIXyLGQkEiXejEs4t3k.fqsIFIdrXm4VViRHvcwlx3TbmqdMAT5GvDS5Nb3MsmciuNS1XgMF81tCEU6TIfMMYPZNd2bGTK2AMco8ht15ahySXprBtIm_OsdjAzHQ91UTL0V2m9sOZxAsLVI&amp;sig=13agkm3nj&amp;x=259&amp;y=194|1280x960|343.0kB|丸亀製麺に来ると、さんざん悩ん...|https://note.mu/ginchan03/n/nf7773bc819a8|87|\" src=\"https://msp.c.yimg.jp/yjimage?q=7isQUwIXyLGQkEiXejEs4t3k.fqsIFIdrXm4VViRHvcwlx3TbmqdMAT5GvDS5Nb3MsmciuNS1XgMF81tCEU6TIfMMYPZNd2bGTK2AMco8ht15ahySXprBtIm_OsdjAzHQ91UTL0V2m9sOZxAsLVI&amp;sig=13agkm3nj&amp;x=259&amp;y=194\"/>,\n",
              " <img alt=\"「丸亀製麺野菜か...」の画像検索結果\" rel=\"http://tips-tips.me/wp-content/uploads/2014/01/IMG_3344.jpg|https://msp.c.yimg.jp/yjimage?q=OXOAdogXyLG.oymr8d4RPDq2Z131jlJ3.tTT4gtdSvzaYfv0qRRkVMwobzgjeZWNp7k65uIlWGqPNv5RiiCd5J2PWhKuikDGK4dp1zsNcllca5.Ca7RZWnNtpGCv9qlcp.kmqTvU1QG6CBTQNhEb&amp;sig=13afnh3i5&amp;x=259&amp;y=194|360x270|34.0kB|食べた！】丸亀製麺の「野菜かき...|http://tips-tips.me/2014/01/marugame-seimen-kakiage/|88|\" src=\"https://msp.c.yimg.jp/yjimage?q=OXOAdogXyLG.oymr8d4RPDq2Z131jlJ3.tTT4gtdSvzaYfv0qRRkVMwobzgjeZWNp7k65uIlWGqPNv5RiiCd5J2PWhKuikDGK4dp1zsNcllca5.Ca7RZWnNtpGCv9qlcp.kmqTvU1QG6CBTQNhEb&amp;sig=13afnh3i5&amp;x=259&amp;y=194\"/>,\n",
              " <img alt=\"「丸亀製麺野菜か...」の画像検索結果\" rel=\"https://yanogawa.files.wordpress.com/2019/01/71-6.jpg|https://msp.c.yimg.jp/yjimage?q=wXmE.CwXyLFSNLv0ule16lvaKUGRiws4OjFi0a3oxiJ3eoUXRMQC5zrfEEidkZLW5uFlo6v6fshIqEaBgf2DxSNATBwyZGNtm2zpYJTTKeMHAd6t1emi2MsR9LDM56tPLfeON6KYDON0I8sCf_ja3T8-&amp;sig=13c06j5ol&amp;x=259&amp;y=194|640x480|81.5kB|毎度お馴染みの”丸亀製麺”で西日...|https://yanogawa.wordpress.com/2019/01/23/%E6%AF%8E%E5%BA%A6%E3%81%8A%E9%A6%B4%E6%9F%93%E3%81%BF%E3%81%AE%E4%B8%B8%E4%BA%80%E8%A3%BD%E9%BA%BA%E3%81%A7%E8%A5%BF%E6%97%A5%E6%9C%AC%E9%99%90%E5%AE%9A%E3%81%AE%E3%81%86/|89|\" src=\"https://msp.c.yimg.jp/yjimage?q=wXmE.CwXyLFSNLv0ule16lvaKUGRiws4OjFi0a3oxiJ3eoUXRMQC5zrfEEidkZLW5uFlo6v6fshIqEaBgf2DxSNATBwyZGNtm2zpYJTTKeMHAd6t1emi2MsR9LDM56tPLfeON6KYDON0I8sCf_ja3T8-&amp;sig=13c06j5ol&amp;x=259&amp;y=194\"/>,\n",
              " <img alt=\"「丸亀製麺野菜か...」の画像検索結果\" rel=\"https://66.media.tumblr.com/12ddcc084583a74993fe0eb9f6d29901/tumblr_p79km0h4PC1w6u3c4o1_1280.jpg|https://msp.c.yimg.jp/yjimage?q=2PuxQrwXyLE6zm0Teqncb6DwNs8uNUxKJU8fzjLrV3KrUdehhxFug_s1v6.G9dl_DW_ZQnEaq1M2yu4itNUMLvkijs11vCrkk6bpkG2WG27GlucNeYAtVwVu6WrUxZDb.GtB3Co95F56Fo9Y02i1&amp;sig=13aq7bm4g&amp;x=259&amp;y=194|1280x960|467.3kB|Sometimes — 【食べたログ】 ぶ...|https://furukuma-sometimes.tumblr.com/post/172986663857/%E9%A3%9F%E3%81%B9%E3%81%9F%E3%83%AD%E3%82%B0-%E3%81%B6%E3%81%A3%E3%81%8B%E3%81%91%E3%81%86%E3%81%A9%E3%82%93%E4%B8%A6%E3%81%AE%E5%86%B7%E9%87%8E%E8%8F%9C%E3%81%8B%E3%81%8D%E6%8F%9A%E3%81%92%E3%82%A4%E3%82%AB%E5%A4%A9%E4%B8%B8%E4%BA%80%E8%A3%BD%E9%BA%BA%E6%AD%A6%E8%94%B5%E3%83%B6%E4%B8%98%E5%BA%97540%E5%86%86|90|\" src=\"https://msp.c.yimg.jp/yjimage?q=2PuxQrwXyLE6zm0Teqncb6DwNs8uNUxKJU8fzjLrV3KrUdehhxFug_s1v6.G9dl_DW_ZQnEaq1M2yu4itNUMLvkijs11vCrkk6bpkG2WG27GlucNeYAtVwVu6WrUxZDb.GtB3Co95F56Fo9Y02i1&amp;sig=13aq7bm4g&amp;x=259&amp;y=194\"/>,\n",
              " <img alt=\"「丸亀製麺野菜か...」の画像検索結果\" rel=\"https://cdn.snapdish.co/photo/dish/504334d264635e099d000074/crop/640|https://msp.c.yimg.jp/yjimage?q=HzLcljoXyLE6MzmuxnvG3cfNi82KWyr0yEER8YMntbqFPXaFvreSMbceTnG_haoghkDX90.pCi79UXyt1EdPZJWJWtnjF5ouoxh4hCfaIseWoZW2P0XJ2..W.go744U_O7SIV40R4.xgih0SOfUt&amp;sig=13alf9aom&amp;x=275&amp;y=183|640x427|93.3kB|丸亀製麺おろしすだちうどん 野...|https://snapdish.co/d/nSGL5a|91|\" src=\"https://msp.c.yimg.jp/yjimage?q=HzLcljoXyLE6MzmuxnvG3cfNi82KWyr0yEER8YMntbqFPXaFvreSMbceTnG_haoghkDX90.pCi79UXyt1EdPZJWJWtnjF5ouoxh4hCfaIseWoZW2P0XJ2..W.go744U_O7SIV40R4.xgih0SOfUt&amp;sig=13alf9aom&amp;x=275&amp;y=183\"/>,\n",
              " <img alt=\"「丸亀製麺野菜か...」の画像検索結果\" rel=\"https://shirataki.me/wordpress/wp-content/uploads/2019/09/DSC_1398-1024x768.jpg|https://msp.c.yimg.jp/yjimage?q=eCWabzsXyLEz71kO9puKVQzyNrZko_DxoHK5gg48RmF0rMb.5l9nMztyPDqzOWGQtPmk4Zg2yiZuf6RbbUEc0FWimkzEYnNcgMLB0mP.wLEaPGE5SbwCqcZ10d130fTVF13D_oFV5i2v8IjLuXC5y.U-&amp;sig=13cs03vit&amp;x=259&amp;y=194|1024x768|177.5kB|体験】日比谷「丸亀製麺」の30分...|https://shirataki.me/odekake/hibiya-marugameseimen/|92|\" src=\"https://msp.c.yimg.jp/yjimage?q=eCWabzsXyLEz71kO9puKVQzyNrZko_DxoHK5gg48RmF0rMb.5l9nMztyPDqzOWGQtPmk4Zg2yiZuf6RbbUEc0FWimkzEYnNcgMLB0mP.wLEaPGE5SbwCqcZ10d130fTVF13D_oFV5i2v8IjLuXC5y.U-&amp;sig=13cs03vit&amp;x=259&amp;y=194\"/>,\n",
              " <img alt=\"「丸亀製麺野菜か...」の画像検索結果\" rel=\"https://ximg.retty.me/resize/s150x150/-/retty/img_repo/l/01/21112234.jpg|https://msp.c.yimg.jp/yjimage?q=gOB6PF4XyLGVhz_QcrFCogHnjyVAAl8gLWo_e0TpDudErCgHkV8bXuNS1K.F7ZcZObJvgKH297v7N2lZ9QG.AduS.ntkaVMMlgP02bJRTaSyAH5Oyh0xhqgnWmR2Aci_mpezjBiJXFJUn_6ZqEcVfas-&amp;sig=13cq30fm1&amp;x=188&amp;y=150|188x150|8.2kB|丸亀製麺 飾西店「冷かけ並、野...|https://retty.me/area/PRE28/ARE105/SUB10501/100001022246/40971385/|93|\" src=\"https://msp.c.yimg.jp/yjimage?q=gOB6PF4XyLGVhz_QcrFCogHnjyVAAl8gLWo_e0TpDudErCgHkV8bXuNS1K.F7ZcZObJvgKH297v7N2lZ9QG.AduS.ntkaVMMlgP02bJRTaSyAH5Oyh0xhqgnWmR2Aci_mpezjBiJXFJUn_6ZqEcVfas-&amp;sig=13cq30fm1&amp;x=188&amp;y=150\"/>,\n",
              " <img alt=\"「丸亀製麺野菜か...」の画像検索結果\" rel=\"https://www.tabetaosi.com/blog/2014120201/images/001.jpg|https://msp.c.yimg.jp/yjimage?q=Bq0hWDcXyLEvc.Ic8ZTPX7Gd.57U4byqbN5GT4P4tt65tMOwNryO7_BWpXSQZ.gloL6wP8c5Gu9C5kdgvPu5QYGxnW.2ee431jWPkpW5vBRd0pxNAikeTWpP3mO4LbUWkj2XOtR9Cr8MM64OyKfy&amp;sig=13a7dmqec&amp;x=259&amp;y=194|500x375|108.3kB|丸亀製麺 釜揚げうどん＋野菜か...|https://www.tabetaosi.com/blog/2014120201/|94|\" src=\"https://msp.c.yimg.jp/yjimage?q=Bq0hWDcXyLEvc.Ic8ZTPX7Gd.57U4byqbN5GT4P4tt65tMOwNryO7_BWpXSQZ.gloL6wP8c5Gu9C5kdgvPu5QYGxnW.2ee431jWPkpW5vBRd0pxNAikeTWpP3mO4LbUWkj2XOtR9Cr8MM64OyKfy&amp;sig=13a7dmqec&amp;x=259&amp;y=194\"/>,\n",
              " <img alt=\"「丸亀製麺野菜か...」の画像検索結果\" rel=\"https://s3-media0.fl.yelpcdn.com/bphoto/P7WG70v6AHGHVWYSgVaM4g/o.jpg|https://msp.c.yimg.jp/yjimage?q=9OUbAfEXyLE7qNGg7qLgAUN9f0yvCNb7TdrOxd4eAslLE1Vd61MYq.sx23Ah8ahO9YsiPiG.ViGfJWckwMko76p2.JSYozAxj9kAXopLSmu5KyShyOS._8VHajJDxoTeIC8eQFtx3jkw7OSDxTQ3&amp;sig=13agjjhkq&amp;x=259&amp;y=194|1000x750|105.3kB|釜揚げうどん、ちくわ天、野菜か...|https://www.yelp.ca/biz_photos/%E4%B8%B8%E4%BA%80%E8%A3%BD%E9%BA%BA-%E6%9D%B1%E4%BA%AC%E3%82%AA%E3%83%9A%E3%83%A9%E3%82%B7%E3%83%86%E3%82%A3%E5%BA%97-%E6%96%B0%E5%AE%BF%E5%8C%BA?select=P7WG70v6AHGHVWYSgVaM4g|95|\" src=\"https://msp.c.yimg.jp/yjimage?q=9OUbAfEXyLE7qNGg7qLgAUN9f0yvCNb7TdrOxd4eAslLE1Vd61MYq.sx23Ah8ahO9YsiPiG.ViGfJWckwMko76p2.JSYozAxj9kAXopLSmu5KyShyOS._8VHajJDxoTeIC8eQFtx3jkw7OSDxTQ3&amp;sig=13agjjhkq&amp;x=259&amp;y=194\"/>,\n",
              " <img alt=\"「丸亀製麺野菜か...」の画像検索結果\" rel=\"http://vegepples.net/wp-content/image/08-veg-20121221-marugame.jpg|https://msp.c.yimg.jp/yjimage?q=uiEXmU8XyLHWoXjGacSm7Izkc01RcjqwYYRnRdCTpfm.AZr6abXkgLidSp7I.qIdVvPa7xlLIWjNxGMyXolmgeoCufBtp2U6.YgRh7pjriS8LTCMib4T3t9pL3ZpUqxKJVcggUgApIWYBz2LFOy73mo-&amp;sig=13cieib3r&amp;x=259&amp;y=194|600x450|97.1kB|丸亀製麺】お得なオーダー方法を...|https://vegepples.net/2012/12/21/udon-marugame/|96|\" src=\"https://msp.c.yimg.jp/yjimage?q=uiEXmU8XyLHWoXjGacSm7Izkc01RcjqwYYRnRdCTpfm.AZr6abXkgLidSp7I.qIdVvPa7xlLIWjNxGMyXolmgeoCufBtp2U6.YgRh7pjriS8LTCMib4T3t9pL3ZpUqxKJVcggUgApIWYBz2LFOy73mo-&amp;sig=13cieib3r&amp;x=259&amp;y=194\"/>,\n",
              " <img alt=\"「丸亀製麺野菜か...」の画像検索結果\" rel=\"https://image2.30min.jp/crop/300x300/30min/tweet/4300/524300.jpg|https://msp.c.yimg.jp/yjimage?q=qoX0anYXyLEGCC9K9cHnbJC2SaBdFItd2OZqEbeJ_ra4CbD8V67wgovPr7QegdvneJKQP.6BKSC5jGSMLpeIlH1HvS7NqYp2uQvxc.HSBIOE41LPUbD9bco2ThN22KR5Q_Sxx0V_CVuq.xDD7k.4&amp;sig=13acmp8ig&amp;x=225&amp;y=225|300x300|21.2kB|丸亀製麺 りんかんモール店/中央...|https://30min.jp/place/2306938|97|\" src=\"https://msp.c.yimg.jp/yjimage?q=qoX0anYXyLEGCC9K9cHnbJC2SaBdFItd2OZqEbeJ_ra4CbD8V67wgovPr7QegdvneJKQP.6BKSC5jGSMLpeIlH1HvS7NqYp2uQvxc.HSBIOE41LPUbD9bco2ThN22KR5Q_Sxx0V_CVuq.xDD7k.4&amp;sig=13acmp8ig&amp;x=225&amp;y=225\"/>,\n",
              " <img alt=\"「丸亀製麺野菜か...」の画像検索結果\" rel=\"https://image.space.rakuten.co.jp/d/strg/ctrl/2/49ca3d24592fa8ee3503491160cf95d1fc0437c6.25.2.2.2.jpg|https://msp.c.yimg.jp/yjimage?q=Q7B.s9wXyLFEkViQeg.mTihMrSfd0cvMiW7NGbnb5XHxh0aNyBx_o416fbqcXoyI6xAV.EZ5Fk5Z2nod46YJ5bjzI.MMXLSqzg27D1R9tJeZ5Uo3VdxBx4jxej392.sshPl1cB3TrUyHNBNGK0LTZg4-&amp;sig=13ceqbqrh&amp;x=259&amp;y=194|560x420|174.8kB|孤独のグルメ 丸亀製麺 ｜ MoMo太...|https://plaza.rakuten.co.jp/momo009/diary/201906180000/?scid=we_blg_pc_lastctgy_2_title|98|\" src=\"https://msp.c.yimg.jp/yjimage?q=Q7B.s9wXyLFEkViQeg.mTihMrSfd0cvMiW7NGbnb5XHxh0aNyBx_o416fbqcXoyI6xAV.EZ5Fk5Z2nod46YJ5bjzI.MMXLSqzg27D1R9tJeZ5Uo3VdxBx4jxej392.sshPl1cB3TrUyHNBNGK0LTZg4-&amp;sig=13ceqbqrh&amp;x=259&amp;y=194\"/>,\n",
              " <img alt=\"「丸亀製麺野菜か...」の画像検索結果\" rel=\"https://xn--nckg3c5ib2dcb.com/img/marugametorotama1.jpg|https://msp.c.yimg.jp/yjimage?q=Cohz_WEXyLGtmYTw81g42xzmIE7RSgOJkVskkU.aBuXJoGFyjkS1dqmIEQFO.8ZmRA7Hb5eIEsrwDcxPxSYReIbhEOXiplO4aDoPANWlNuHrpSwf3Ias0Ww_OH15zCX97YGdgeWjPOt_z6XqgEa_NIo-&amp;sig=13cq4spki&amp;x=259&amp;y=194|640x480|70.3kB|丸亀製麺の「とろ玉うどん」と「...|https://xn--nckg3c5ib2dcb.com/marugameseimen/torotamaudon.html|99|\" src=\"https://msp.c.yimg.jp/yjimage?q=Cohz_WEXyLGtmYTw81g42xzmIE7RSgOJkVskkU.aBuXJoGFyjkS1dqmIEQFO.8ZmRA7Hb5eIEsrwDcxPxSYReIbhEOXiplO4aDoPANWlNuHrpSwf3Ias0Ww_OH15zCX97YGdgeWjPOt_z6XqgEa_NIo-&amp;sig=13cq4spki&amp;x=259&amp;y=194\"/>,\n",
              " <img alt=\"「丸亀製麺野菜か...」の画像検索結果\" rel=\"http://img-cdn.jg.jugem.jp/1a3/2820811/20200304_6295535.jpg|https://msp.c.yimg.jp/yjimage?q=UW3tajYXyLHzaXOnmcHK8uu.R6anFVzM_xRPkIf1OYhoALq6zuBStxVnIYh6NTYYhA.0_Hlf_r2ibP3zHpNeu0LdS68u78FmArLq3Oi5.y6p.L9n5iSwITCc7y2jNsN0ulG8UtY2rm0bX5COIj.0&amp;sig=13am82qd9&amp;x=168&amp;y=299|400x711|199.3kB|丸亀製麺オリナスモール店で野菜...|http://blog.swimrun.info/?eid=846&amp;amp;imageviewer&amp;amp;image=20200304_6295535.jpg|100|\" src=\"https://msp.c.yimg.jp/yjimage?q=UW3tajYXyLHzaXOnmcHK8uu.R6anFVzM_xRPkIf1OYhoALq6zuBStxVnIYh6NTYYhA.0_Hlf_r2ibP3zHpNeu0LdS68u78FmArLq3Oi5.y6p.L9n5iSwITCc7y2jNsN0ulG8UtY2rm0bX5COIj.0&amp;sig=13am82qd9&amp;x=168&amp;y=299\"/>]"
            ]
          },
          "metadata": {
            "tags": []
          },
          "execution_count": 31
        }
      ]
    },
    {
      "cell_type": "code",
      "metadata": {
        "id": "mCwFu6BKqhdJ",
        "colab_type": "code",
        "colab": {}
      },
      "source": [
        "img_tags = soup.find_all(\"img\", attrs={\"alt\":\"「丸亀製麺野菜か...」の画像検索結果\"})"
      ],
      "execution_count": 0,
      "outputs": []
    },
    {
      "cell_type": "code",
      "metadata": {
        "id": "j7jVXmzMqxGx",
        "colab_type": "code",
        "colab": {
          "base_uri": "https://localhost:8080/",
          "height": 389
        },
        "outputId": "133c0b08-3adc-4802-cb56-46588bec647f"
      },
      "source": [
        "img_urls = []\n",
        "\n",
        "for img_tag in img_tags:\n",
        "    url = img_tag.get(\"src\")\n",
        "    \n",
        "    img_urls.append(url)\n",
        "    print(url)"
      ],
      "execution_count": 33,
      "outputs": [
        {
          "output_type": "stream",
          "text": [
            "https://msp.c.yimg.jp/yjimage?q=RIXWgFUXyLFMyjR86pIhQmHs6L7bnz.nu7Df5.G_IEOSCNWy3K0P8dWdU6B9gZKcBoqa0vttmb6wguGiGlT3t9M7_RKkSNDU4QMhiokdjgDJvh4HUuP7R9vOmJ2g7Ms6.IRKQCzTcak.K3a6JjNt&sig=13ajb9nsc&x=259&y=194\n",
            "https://msp.c.yimg.jp/yjimage?q=BO_SBOwXyLGD3G6bKmgNlCgIj0d3KwOth8UQVyIz5kVMEVzXKkFdE_e5cWMJhhErRSw0jtgpUltJW2BtaqI9tGOzNfGdyeLuGYjmZ0RbsnfSAkNvVYIAeaMv9ioIhiAfuWdwcLC0nFf8Iumn3bOAsoE-&sig=13coo3m8u&x=259&y=194\n",
            "https://msp.c.yimg.jp/yjimage?q=BJ1_fQ8XyLEQC9S_nv3_6nfvAjwywrFl1yEY._G6rIdvkpy0ZzffCC9yYv03pEJl.3W8McrDjdI7gyNbl9IUqkBz1qIpvJhBsB51MpFeHGIChwFKMqRHHs5cmNbNh8AbhWVz8rf09YF.hgq3FUxEKbA-&sig=13cu24adk&x=300&y=168\n",
            "https://msp.c.yimg.jp/yjimage?q=xKGIKIUXyLGLL9QzelOTYwniOF77pcjnHtFIA.E6Y_B42msSK3gFBA_uBbj5gJWKOKI3SuopP3Qs2Il3C6gcHnDzEAwGZaYbxq8YGd8C28FRUfUN.KCoXtdIPXEg_Tnmbq2QF67DOwSvchcxyix_2l4-&sig=13c2h8ttt&x=225&y=225\n",
            "https://msp.c.yimg.jp/yjimage?q=aodajv8XyLE6Bdxm7keRrO9lEiOZ6vATQ_3Fp_67843.sjdg0SyzIa_6P13SPmnDtoauIr5bEGlJvbBwIlOrOKQQoE3QgNZ5p3_GnCAAXG.Wb2nkWR6Ih0So8HJ3tdSHL3WphxOkYeTL.PFwd.Y-&sig=1392u9mic&x=194&y=259\n",
            "https://msp.c.yimg.jp/yjimage?q=fIs4whMXyLH.pjK4MGPoDxhWepssDZatPN3JSueeXvfMX5AyGHILRb66VH3HbcnNZ6xbGZyeQ_uWekZBhkIOUiHigv6iVa_kEsG7XQlLdBCf09Z0cgjOqP4uo8odmOLbQ7jJ00jNscop1Da6.l9dJhU-&sig=13cm5s4t9&x=259&y=194\n",
            "https://msp.c.yimg.jp/yjimage?q=7isQUwIXyLGQkEiXejEs4t3k.fqsIFIdrXm4VViRHvcwlx3TbmqdMAT5GvDS5Nb3MsmciuNS1XgMF81tCEU6TIfMMYPZNd2bGTK2AMco8ht15ahySXprBtIm_OsdjAzHQ91UTL0V2m9sOZxAsLVI&sig=13agkm3nj&x=259&y=194\n",
            "https://msp.c.yimg.jp/yjimage?q=OXOAdogXyLG.oymr8d4RPDq2Z131jlJ3.tTT4gtdSvzaYfv0qRRkVMwobzgjeZWNp7k65uIlWGqPNv5RiiCd5J2PWhKuikDGK4dp1zsNcllca5.Ca7RZWnNtpGCv9qlcp.kmqTvU1QG6CBTQNhEb&sig=13afnh3i5&x=259&y=194\n",
            "https://msp.c.yimg.jp/yjimage?q=wXmE.CwXyLFSNLv0ule16lvaKUGRiws4OjFi0a3oxiJ3eoUXRMQC5zrfEEidkZLW5uFlo6v6fshIqEaBgf2DxSNATBwyZGNtm2zpYJTTKeMHAd6t1emi2MsR9LDM56tPLfeON6KYDON0I8sCf_ja3T8-&sig=13c06j5ol&x=259&y=194\n",
            "https://msp.c.yimg.jp/yjimage?q=2PuxQrwXyLE6zm0Teqncb6DwNs8uNUxKJU8fzjLrV3KrUdehhxFug_s1v6.G9dl_DW_ZQnEaq1M2yu4itNUMLvkijs11vCrkk6bpkG2WG27GlucNeYAtVwVu6WrUxZDb.GtB3Co95F56Fo9Y02i1&sig=13aq7bm4g&x=259&y=194\n",
            "https://msp.c.yimg.jp/yjimage?q=HzLcljoXyLE6MzmuxnvG3cfNi82KWyr0yEER8YMntbqFPXaFvreSMbceTnG_haoghkDX90.pCi79UXyt1EdPZJWJWtnjF5ouoxh4hCfaIseWoZW2P0XJ2..W.go744U_O7SIV40R4.xgih0SOfUt&sig=13alf9aom&x=275&y=183\n",
            "https://msp.c.yimg.jp/yjimage?q=eCWabzsXyLEz71kO9puKVQzyNrZko_DxoHK5gg48RmF0rMb.5l9nMztyPDqzOWGQtPmk4Zg2yiZuf6RbbUEc0FWimkzEYnNcgMLB0mP.wLEaPGE5SbwCqcZ10d130fTVF13D_oFV5i2v8IjLuXC5y.U-&sig=13cs03vit&x=259&y=194\n",
            "https://msp.c.yimg.jp/yjimage?q=gOB6PF4XyLGVhz_QcrFCogHnjyVAAl8gLWo_e0TpDudErCgHkV8bXuNS1K.F7ZcZObJvgKH297v7N2lZ9QG.AduS.ntkaVMMlgP02bJRTaSyAH5Oyh0xhqgnWmR2Aci_mpezjBiJXFJUn_6ZqEcVfas-&sig=13cq30fm1&x=188&y=150\n",
            "https://msp.c.yimg.jp/yjimage?q=Bq0hWDcXyLEvc.Ic8ZTPX7Gd.57U4byqbN5GT4P4tt65tMOwNryO7_BWpXSQZ.gloL6wP8c5Gu9C5kdgvPu5QYGxnW.2ee431jWPkpW5vBRd0pxNAikeTWpP3mO4LbUWkj2XOtR9Cr8MM64OyKfy&sig=13a7dmqec&x=259&y=194\n",
            "https://msp.c.yimg.jp/yjimage?q=9OUbAfEXyLE7qNGg7qLgAUN9f0yvCNb7TdrOxd4eAslLE1Vd61MYq.sx23Ah8ahO9YsiPiG.ViGfJWckwMko76p2.JSYozAxj9kAXopLSmu5KyShyOS._8VHajJDxoTeIC8eQFtx3jkw7OSDxTQ3&sig=13agjjhkq&x=259&y=194\n",
            "https://msp.c.yimg.jp/yjimage?q=uiEXmU8XyLHWoXjGacSm7Izkc01RcjqwYYRnRdCTpfm.AZr6abXkgLidSp7I.qIdVvPa7xlLIWjNxGMyXolmgeoCufBtp2U6.YgRh7pjriS8LTCMib4T3t9pL3ZpUqxKJVcggUgApIWYBz2LFOy73mo-&sig=13cieib3r&x=259&y=194\n",
            "https://msp.c.yimg.jp/yjimage?q=qoX0anYXyLEGCC9K9cHnbJC2SaBdFItd2OZqEbeJ_ra4CbD8V67wgovPr7QegdvneJKQP.6BKSC5jGSMLpeIlH1HvS7NqYp2uQvxc.HSBIOE41LPUbD9bco2ThN22KR5Q_Sxx0V_CVuq.xDD7k.4&sig=13acmp8ig&x=225&y=225\n",
            "https://msp.c.yimg.jp/yjimage?q=Q7B.s9wXyLFEkViQeg.mTihMrSfd0cvMiW7NGbnb5XHxh0aNyBx_o416fbqcXoyI6xAV.EZ5Fk5Z2nod46YJ5bjzI.MMXLSqzg27D1R9tJeZ5Uo3VdxBx4jxej392.sshPl1cB3TrUyHNBNGK0LTZg4-&sig=13ceqbqrh&x=259&y=194\n",
            "https://msp.c.yimg.jp/yjimage?q=Cohz_WEXyLGtmYTw81g42xzmIE7RSgOJkVskkU.aBuXJoGFyjkS1dqmIEQFO.8ZmRA7Hb5eIEsrwDcxPxSYReIbhEOXiplO4aDoPANWlNuHrpSwf3Ias0Ww_OH15zCX97YGdgeWjPOt_z6XqgEa_NIo-&sig=13cq4spki&x=259&y=194\n",
            "https://msp.c.yimg.jp/yjimage?q=UW3tajYXyLHzaXOnmcHK8uu.R6anFVzM_xRPkIf1OYhoALq6zuBStxVnIYh6NTYYhA.0_Hlf_r2ibP3zHpNeu0LdS68u78FmArLq3Oi5.y6p.L9n5iSwITCc7y2jNsN0ulG8UtY2rm0bX5COIj.0&sig=13am82qd9&x=168&y=299\n"
          ],
          "name": "stdout"
        }
      ]
    },
    {
      "cell_type": "code",
      "metadata": {
        "id": "NEk3_Ginq0g7",
        "colab_type": "code",
        "colab": {}
      },
      "source": [
        "def download_image(url, file_path):\n",
        "    r = requests.get(url, stream=True)\n",
        "   \n",
        "    if r.status_code == 200:\n",
        "        with open(file_path, \"wb\") as f:\n",
        "            f.write(r.content)"
      ],
      "execution_count": 0,
      "outputs": []
    },
    {
      "cell_type": "code",
      "metadata": {
        "id": "Iap68Zu3q5PW",
        "colab_type": "code",
        "colab": {
          "base_uri": "https://localhost:8080/",
          "height": 34
        },
        "outputId": "36d7dcb9-237b-4611-8536-731b7dcfb9f8"
      },
      "source": [
        "from google.colab import drive\n",
        "drive.mount('./gdrive')"
      ],
      "execution_count": 22,
      "outputs": [
        {
          "output_type": "stream",
          "text": [
            "Drive already mounted at ./gdrive; to attempt to forcibly remount, call drive.mount(\"./gdrive\", force_remount=True).\n"
          ],
          "name": "stdout"
        }
      ]
    },
    {
      "cell_type": "code",
      "metadata": {
        "id": "g_8RxsZGrDtX",
        "colab_type": "code",
        "colab": {
          "base_uri": "https://localhost:8080/",
          "height": 721
        },
        "outputId": "8f136bb9-ee6d-4c49-96cd-b00dd5e47e74"
      },
      "source": [
        "import os\n",
        "\n",
        "google_drive_save_dir = \"./gdrive/My Drive/Colab Notebooks/丸亀製麺/野菜かき揚げ/images\"\n",
        "\n",
        "for index, url in enumerate(img_urls):\n",
        "  file_name = \"5_{}.jpg\".format(index)\n",
        "\n",
        "  print(file_name)\n",
        "  image_path = os.path.join(google_drive_save_dir, file_name)\n",
        "  print(image_path)\n",
        "\n",
        "  download_image(url=url,file_path=image_path)"
      ],
      "execution_count": 35,
      "outputs": [
        {
          "output_type": "stream",
          "text": [
            "5_0.jpg\n",
            "./gdrive/My Drive/Colab Notebooks/丸亀製麺/野菜かき揚げ/images/5_0.jpg\n",
            "5_1.jpg\n",
            "./gdrive/My Drive/Colab Notebooks/丸亀製麺/野菜かき揚げ/images/5_1.jpg\n",
            "5_2.jpg\n",
            "./gdrive/My Drive/Colab Notebooks/丸亀製麺/野菜かき揚げ/images/5_2.jpg\n",
            "5_3.jpg\n",
            "./gdrive/My Drive/Colab Notebooks/丸亀製麺/野菜かき揚げ/images/5_3.jpg\n",
            "5_4.jpg\n",
            "./gdrive/My Drive/Colab Notebooks/丸亀製麺/野菜かき揚げ/images/5_4.jpg\n",
            "5_5.jpg\n",
            "./gdrive/My Drive/Colab Notebooks/丸亀製麺/野菜かき揚げ/images/5_5.jpg\n",
            "5_6.jpg\n",
            "./gdrive/My Drive/Colab Notebooks/丸亀製麺/野菜かき揚げ/images/5_6.jpg\n",
            "5_7.jpg\n",
            "./gdrive/My Drive/Colab Notebooks/丸亀製麺/野菜かき揚げ/images/5_7.jpg\n",
            "5_8.jpg\n",
            "./gdrive/My Drive/Colab Notebooks/丸亀製麺/野菜かき揚げ/images/5_8.jpg\n",
            "5_9.jpg\n",
            "./gdrive/My Drive/Colab Notebooks/丸亀製麺/野菜かき揚げ/images/5_9.jpg\n",
            "5_10.jpg\n",
            "./gdrive/My Drive/Colab Notebooks/丸亀製麺/野菜かき揚げ/images/5_10.jpg\n",
            "5_11.jpg\n",
            "./gdrive/My Drive/Colab Notebooks/丸亀製麺/野菜かき揚げ/images/5_11.jpg\n",
            "5_12.jpg\n",
            "./gdrive/My Drive/Colab Notebooks/丸亀製麺/野菜かき揚げ/images/5_12.jpg\n",
            "5_13.jpg\n",
            "./gdrive/My Drive/Colab Notebooks/丸亀製麺/野菜かき揚げ/images/5_13.jpg\n",
            "5_14.jpg\n",
            "./gdrive/My Drive/Colab Notebooks/丸亀製麺/野菜かき揚げ/images/5_14.jpg\n",
            "5_15.jpg\n",
            "./gdrive/My Drive/Colab Notebooks/丸亀製麺/野菜かき揚げ/images/5_15.jpg\n",
            "5_16.jpg\n",
            "./gdrive/My Drive/Colab Notebooks/丸亀製麺/野菜かき揚げ/images/5_16.jpg\n",
            "5_17.jpg\n",
            "./gdrive/My Drive/Colab Notebooks/丸亀製麺/野菜かき揚げ/images/5_17.jpg\n",
            "5_18.jpg\n",
            "./gdrive/My Drive/Colab Notebooks/丸亀製麺/野菜かき揚げ/images/5_18.jpg\n",
            "5_19.jpg\n",
            "./gdrive/My Drive/Colab Notebooks/丸亀製麺/野菜かき揚げ/images/5_19.jpg\n"
          ],
          "name": "stdout"
        }
      ]
    },
    {
      "cell_type": "code",
      "metadata": {
        "id": "33GCeQrxq8qW",
        "colab_type": "code",
        "colab": {}
      },
      "source": [
        ""
      ],
      "execution_count": 0,
      "outputs": []
    }
  ]
}